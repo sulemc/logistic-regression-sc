{
  "nbformat": 4,
  "nbformat_minor": 0,
  "metadata": {
    "colab": {
      "name": "Logistic Regression Sprint Challenge.ipynb",
      "version": "0.3.2",
      "provenance": [],
      "collapsed_sections": [],
      "include_colab_link": true
    },
    "kernelspec": {
      "name": "python3",
      "display_name": "Python 3"
    }
  },
  "cells": [
    {
      "cell_type": "markdown",
      "metadata": {
        "id": "view-in-github",
        "colab_type": "text"
      },
      "source": [
        "[View in Colaboratory](https://colab.research.google.com/github/sulemc/logistic-regression-sc/blob/master/Logistic_Regression_Sprint_Challenge.ipynb)"
      ]
    },
    {
      "metadata": {
        "id": "aD8Yb0P8D04e",
        "colab_type": "text"
      },
      "cell_type": "markdown",
      "source": [
        "# Logistic Regression Sprint Challenge\n",
        "\n",
        "Objectives:\n",
        "* Create a training set and train a Logistic Regression model with it\n",
        "* Predict values for $\\hat{y}$ using a test set\n",
        "* Calculate sum-of-squared error $SSE(y,\\hat{y})$\n",
        "* Calculate the error rate of the model as a percentage"
      ]
    },
    {
      "metadata": {
        "id": "aq9MJvtTE6lY",
        "colab_type": "text"
      },
      "cell_type": "markdown",
      "source": [
        "### 1. Compute Linear Regression Model\n",
        "\n",
        "Create a training set and train a Logistic Regression model with it"
      ]
    },
    {
      "metadata": {
        "id": "I8nqyUEREiil",
        "colab_type": "code",
        "colab": {}
      },
      "cell_type": "code",
      "source": [
        "# Import necessary libraries\n",
        "\n",
        "# Use train_test_split to create a training set\n",
        "\n",
        "# Create and train(fit) the model"
      ],
      "execution_count": 0,
      "outputs": []
    },
    {
      "metadata": {
        "id": "jSfpHHfJFPc5",
        "colab_type": "text"
      },
      "cell_type": "markdown",
      "source": [
        "### 2. Predict values for $\\hat{y}$ for the test set"
      ]
    },
    {
      "metadata": {
        "id": "x3K306_pFUQc",
        "colab_type": "code",
        "colab": {}
      },
      "cell_type": "code",
      "source": [
        "# Predict y_hat for the test set created previously"
      ],
      "execution_count": 0,
      "outputs": []
    },
    {
      "metadata": {
        "id": "nDEdBrtYFjEr",
        "colab_type": "text"
      },
      "cell_type": "markdown",
      "source": [
        "### 3. Calculate SSE for the test-set"
      ]
    },
    {
      "metadata": {
        "id": "B73O-XcrF9Wd",
        "colab_type": "code",
        "colab": {}
      },
      "cell_type": "code",
      "source": [
        "# Calculate SSE\n",
        "\n",
        "# Print SSE"
      ],
      "execution_count": 0,
      "outputs": []
    },
    {
      "metadata": {
        "id": "QS0KgX-_QbX6",
        "colab_type": "text"
      },
      "cell_type": "markdown",
      "source": [
        "### 4. Calculate the error rate of the model as a percentage."
      ]
    },
    {
      "metadata": {
        "id": "t2xGVuYcQfAo",
        "colab_type": "code",
        "colab": {}
      },
      "cell_type": "code",
      "source": [
        "# Calculate percentage\n",
        "\n",
        "# Print percentage"
      ],
      "execution_count": 0,
      "outputs": []
    }
  ]
}